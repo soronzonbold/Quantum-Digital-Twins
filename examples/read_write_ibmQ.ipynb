{
 "cells": [
  {
   "cell_type": "code",
   "execution_count": 1,
   "id": "66fae645-1547-4261-9572-3e17441bd989",
   "metadata": {},
   "outputs": [],
   "source": [
    "# Import libraries\n",
    "import numpy as np\n",
    "from numpy import pi as pi\n",
    "from PIL import Image\n",
    "from collections import OrderedDict\n",
    "import matplotlib.pyplot as plt\n",
    "import sys, random, ast, time\n",
    "from pathlib import Path\n",
    "import re\n",
    "import pandas\n",
    "import inspect\n",
    "\n",
    "# Import Qiskit\n",
    "\n",
    "from qiskit import QuantumCircuit\n",
    "from qiskit.quantum_info import Kraus, SuperOp\n",
    "from qiskit.visualization import plot_histogram\n",
    "from qiskit.transpiler.preset_passmanagers import generate_preset_pass_manager\n",
    "from qiskit_aer import AerSimulator\n",
    "\n",
    "from qiskit_aer.noise import NoiseModel\n",
    "from qiskit import QuantumCircuit, transpile\n",
    "from qiskit_aer import AerSimulator\n",
    "from qiskit.visualization import plot_histogram\n",
    "import datetime"
   ]
  },
  {
   "cell_type": "code",
   "execution_count": 2,
   "id": "d82cf0e1-523e-42d3-896f-1ea8cf64ae1d",
   "metadata": {},
   "outputs": [],
   "source": [
    "# Qiskit Runtime imports\n",
    "from qiskit_ibm_runtime import QiskitRuntimeService\n",
    "from qiskit_ibm_runtime import EstimatorV2 as Estimator"
   ]
  },
  {
   "cell_type": "code",
   "execution_count": 3,
   "id": "227a7158-b8a5-44d6-82a7-ad82b99c59fe",
   "metadata": {},
   "outputs": [],
   "source": [
    "import pathlib"
   ]
  },
  {
   "cell_type": "code",
   "execution_count": 40,
   "id": "67c2d059-768f-4633-bf5a-ec645ebebfca",
   "metadata": {},
   "outputs": [],
   "source": [
    "# To run on hardware, select the backend with the fewest number of jobs in the queue\n",
    "service = QiskitRuntimeService(channel=\"ibm_quantum\", token=\"insert-your-ibm-token-here-if-you-would-like-to-generate-quantum-database-from-IBM-Quantum\")"
   ]
  },
  {
   "cell_type": "code",
   "execution_count": 5,
   "id": "01284ad1-93f7-4575-98dd-717d5b2b036b",
   "metadata": {},
   "outputs": [
    {
     "data": {
      "text/plain": [
       "'ibm_sherbrooke'"
      ]
     },
     "execution_count": 5,
     "metadata": {},
     "output_type": "execute_result"
    }
   ],
   "source": [
    "backend = service.backend('ibm_sherbrooke')\n",
    "backend.name"
   ]
  },
  {
   "cell_type": "code",
   "execution_count": 10,
   "id": "e1e00ac8-4b7b-4e17-9965-593edd6a0dc4",
   "metadata": {},
   "outputs": [
    {
     "data": {
      "text/plain": [
       "'ibm_kyoto'"
      ]
     },
     "execution_count": 10,
     "metadata": {},
     "output_type": "execute_result"
    }
   ],
   "source": [
    "backend = service.backend('ibm_kyoto')\n",
    "backend.name"
   ]
  },
  {
   "cell_type": "code",
   "execution_count": 19,
   "id": "98fa49de-a2f7-4172-8fe3-fa0fc10d1f02",
   "metadata": {},
   "outputs": [
    {
     "data": {
      "text/plain": [
       "'ibm_kyiv'"
      ]
     },
     "execution_count": 19,
     "metadata": {},
     "output_type": "execute_result"
    }
   ],
   "source": [
    "backend = service.backend('ibm_kyiv')# ibm_osaka is down from IBM Quantum, they launched ibm_kyiv\n",
    "backend.name"
   ]
  },
  {
   "cell_type": "code",
   "execution_count": 15,
   "id": "50f056aa-5d3c-4505-af02-a3593f7dcabe",
   "metadata": {},
   "outputs": [
    {
     "data": {
      "text/plain": [
       "'ibm_brisbane'"
      ]
     },
     "execution_count": 15,
     "metadata": {},
     "output_type": "execute_result"
    }
   ],
   "source": [
    "backend = service.backend('ibm_brisbane')\n",
    "backend.name"
   ]
  },
  {
   "cell_type": "markdown",
   "id": "914ab3b3-fef0-4199-b4dc-cfe835821c3f",
   "metadata": {},
   "source": [
    "# Generating csv files from IBM quantum computers (publicly accessible) if you would like to generate a new quantum database."
   ]
  },
  {
   "cell_type": "raw",
   "id": "abcf71e1-bd31-4279-81e7-cb5fca911bbf",
   "metadata": {},
   "source": [
    "pwd"
   ]
  },
  {
   "cell_type": "code",
   "execution_count": 20,
   "id": "dfa3d5b2-f9f8-436e-8bc9-9832788f8e4d",
   "metadata": {},
   "outputs": [],
   "source": [
    "new_dir_name = 'QuantumDatabase_v7' #give your database version name, e.g. QuantumDatabase_v7 if you would like to create a new quantum database, since QuantumDatabase_v1 to QuantumDatabase_v5 exist.\n",
    "path = '/path/to/your/data_folder/' # insert a path you would like to store your quantum database (e.g. data folder)\n",
    "new_dir = pathlib.Path(path, new_dir_name)\n",
    "new_dir.mkdir(parents=True, exist_ok=True)"
   ]
  },
  {
   "cell_type": "code",
   "execution_count": 12,
   "id": "abb2a8cd-b568-40eb-ba5a-da268c942238",
   "metadata": {},
   "outputs": [],
   "source": [
    "import sys\n",
    "import os\n",
    "\n",
    "# Add the src folder to the Python path\n",
    "src_path = os.path.abspath(os.path.join(os.getcwd(), \"..\", \"src\"))\n",
    "if src_path not in sys.path:\n",
    "    sys.path.append(src_path)\n",
    "    \n",
    "from parameters_modified import gate_param_values, gate_error_values, gate_length_values, readout_error_values \n",
    "from parameters_modified import thermal_relaxation_values, basis_gates_list, coupling_map_list"
   ]
  },
  {
   "cell_type": "raw",
   "id": "8e7abfc8-4f8e-4327-b4d9-8f73a517775a",
   "metadata": {},
   "source": [
    "pwd"
   ]
  },
  {
   "cell_type": "code",
   "execution_count": 22,
   "id": "d47169cb-db57-4b20-a20c-4beca7954639",
   "metadata": {},
   "outputs": [],
   "source": [
    "backendName = backend.name\n",
    "properties = backend.properties()\n",
    "\n",
    "GateParams = gate_param_values(properties, backendName, new_dir)\n",
    "GateErrors = gate_error_values(properties, backendName, new_dir)\n",
    "GateLengths = gate_length_values(properties, backendName, new_dir)\n",
    "GateReadouts = readout_error_values(properties, backendName, new_dir)\n",
    "GateThermals = thermal_relaxation_values(properties, backendName, new_dir)\n",
    "Basisgates = basis_gates_list(backend, backendName, new_dir)\n",
    "CMap = coupling_map_list(backend, backendName, new_dir)"
   ]
  },
  {
   "cell_type": "markdown",
   "id": "100f7c1a-20cb-41f6-8423-ba530ac6112f",
   "metadata": {},
   "source": [
    "# Reading from csv files"
   ]
  },
  {
   "cell_type": "raw",
   "id": "7193a1ea-9938-4f7b-b818-333a25e09810",
   "metadata": {},
   "source": [
    "pwd"
   ]
  },
  {
   "cell_type": "code",
   "execution_count": 19,
   "id": "f180d16c-3056-4e37-bf68-c75b2d955796",
   "metadata": {},
   "outputs": [],
   "source": [
    "new_dir_name = 'QuantumDatabase_v5' #choose your quantum database e.g., QuantumDatabase_v6 already generated and exist in the \"QuantumDatabase\" folder.\n",
    "path = '/path/to/your/data_folder/' # insert a path you stored your quantum database\n",
    "new_dir = pathlib.Path(path, new_dir_name)\n",
    "\n"
   ]
  },
  {
   "cell_type": "raw",
   "id": "59ed2afb-da25-4901-8cdf-66478eea9298",
   "metadata": {},
   "source": [
    "new_dir"
   ]
  },
  {
   "cell_type": "code",
   "execution_count": 21,
   "id": "02fa4862-f7c6-43db-a76e-1d21fd550002",
   "metadata": {},
   "outputs": [],
   "source": [
    "import os, fnmatch\n",
    "def find(pattern, path):\n",
    "    for root, dirs, files in os.walk(path):\n",
    "        for name in files:\n",
    "            if fnmatch.fnmatch(name, pattern):\n",
    "                result = os.path.join(root, name)\n",
    "    return result"
   ]
  },
  {
   "cell_type": "code",
   "execution_count": 22,
   "id": "7c84528b-fd08-4c64-b3cc-73258089b7e7",
   "metadata": {},
   "outputs": [],
   "source": [
    "#reading a coupling map from a csv file\n",
    "\n",
    "ibmQname = '*osaka*'\n",
    "pattern = ibmQname+'coupling_map.csv'\n",
    "filename = find(pattern, new_dir)\n",
    "coupling_map = pandas.read_csv(filename, header = None)\n",
    "\n",
    "coupling_m = []\n",
    "for i in coupling_map.values.tolist()[0]:\n",
    "    first = int(i.split('[')[1].split(']')[0].split(',')[0])\n",
    "    second = int(i.split('[')[1].split(']')[0].split(',')[1])\n",
    "    arr = [first, second]\n",
    "    coupling_m.append(arr)"
   ]
  },
  {
   "cell_type": "code",
   "execution_count": 23,
   "id": "48fb00b1-11b6-4877-ab38-640b3513181f",
   "metadata": {},
   "outputs": [],
   "source": [
    "ibmQname = '*osaka*'"
   ]
  },
  {
   "cell_type": "code",
   "execution_count": 24,
   "id": "d5ad8b58-f1b1-4a47-9404-10abd50042e7",
   "metadata": {},
   "outputs": [
    {
     "data": {
      "text/html": [
       "<div>\n",
       "<style scoped>\n",
       "    .dataframe tbody tr th:only-of-type {\n",
       "        vertical-align: middle;\n",
       "    }\n",
       "\n",
       "    .dataframe tbody tr th {\n",
       "        vertical-align: top;\n",
       "    }\n",
       "\n",
       "    .dataframe thead th {\n",
       "        text-align: right;\n",
       "    }\n",
       "</style>\n",
       "<table border=\"1\" class=\"dataframe\">\n",
       "  <thead>\n",
       "    <tr style=\"text-align: right;\">\n",
       "      <th></th>\n",
       "      <th>prob_meas1_prep0</th>\n",
       "      <th>prob_meas0_prep1</th>\n",
       "    </tr>\n",
       "  </thead>\n",
       "  <tbody>\n",
       "    <tr>\n",
       "      <th>0</th>\n",
       "      <td>0.0286</td>\n",
       "      <td>0.0230</td>\n",
       "    </tr>\n",
       "    <tr>\n",
       "      <th>1</th>\n",
       "      <td>0.0084</td>\n",
       "      <td>0.0216</td>\n",
       "    </tr>\n",
       "    <tr>\n",
       "      <th>2</th>\n",
       "      <td>0.0316</td>\n",
       "      <td>0.0216</td>\n",
       "    </tr>\n",
       "    <tr>\n",
       "      <th>3</th>\n",
       "      <td>0.0450</td>\n",
       "      <td>0.0208</td>\n",
       "    </tr>\n",
       "    <tr>\n",
       "      <th>4</th>\n",
       "      <td>0.2540</td>\n",
       "      <td>0.7312</td>\n",
       "    </tr>\n",
       "    <tr>\n",
       "      <th>...</th>\n",
       "      <td>...</td>\n",
       "      <td>...</td>\n",
       "    </tr>\n",
       "    <tr>\n",
       "      <th>122</th>\n",
       "      <td>0.0158</td>\n",
       "      <td>0.0140</td>\n",
       "    </tr>\n",
       "    <tr>\n",
       "      <th>123</th>\n",
       "      <td>0.0120</td>\n",
       "      <td>0.0078</td>\n",
       "    </tr>\n",
       "    <tr>\n",
       "      <th>124</th>\n",
       "      <td>0.0240</td>\n",
       "      <td>0.0154</td>\n",
       "    </tr>\n",
       "    <tr>\n",
       "      <th>125</th>\n",
       "      <td>0.0448</td>\n",
       "      <td>0.0410</td>\n",
       "    </tr>\n",
       "    <tr>\n",
       "      <th>126</th>\n",
       "      <td>0.0164</td>\n",
       "      <td>0.0122</td>\n",
       "    </tr>\n",
       "  </tbody>\n",
       "</table>\n",
       "<p>127 rows × 2 columns</p>\n",
       "</div>"
      ],
      "text/plain": [
       "     prob_meas1_prep0  prob_meas0_prep1\n",
       "0              0.0286            0.0230\n",
       "1              0.0084            0.0216\n",
       "2              0.0316            0.0216\n",
       "3              0.0450            0.0208\n",
       "4              0.2540            0.7312\n",
       "..                ...               ...\n",
       "122            0.0158            0.0140\n",
       "123            0.0120            0.0078\n",
       "124            0.0240            0.0154\n",
       "125            0.0448            0.0410\n",
       "126            0.0164            0.0122\n",
       "\n",
       "[127 rows x 2 columns]"
      ]
     },
     "execution_count": 24,
     "metadata": {},
     "output_type": "execute_result"
    }
   ],
   "source": [
    "pattern = ibmQname+'readout_error_values.csv'\n",
    "filename = find(pattern, new_dir)\n",
    "\n",
    "colnames = ['prob_meas1_prep0', 'prob_meas0_prep1']\n",
    "GateReadoutsPD = pandas.read_csv(filename, names=colnames)\n",
    "GateReadoutsPD"
   ]
  },
  {
   "cell_type": "code",
   "execution_count": 25,
   "id": "6f484be5-dcd9-4044-b9fa-572f20ee145e",
   "metadata": {},
   "outputs": [
    {
     "data": {
      "text/html": [
       "<div>\n",
       "<style scoped>\n",
       "    .dataframe tbody tr th:only-of-type {\n",
       "        vertical-align: middle;\n",
       "    }\n",
       "\n",
       "    .dataframe tbody tr th {\n",
       "        vertical-align: top;\n",
       "    }\n",
       "\n",
       "    .dataframe thead th {\n",
       "        text-align: right;\n",
       "    }\n",
       "</style>\n",
       "<table border=\"1\" class=\"dataframe\">\n",
       "  <thead>\n",
       "    <tr style=\"text-align: right;\">\n",
       "      <th></th>\n",
       "      <th>gate_name</th>\n",
       "      <th>qubits</th>\n",
       "      <th>gate_length</th>\n",
       "      <th>gate_error</th>\n",
       "    </tr>\n",
       "  </thead>\n",
       "  <tbody>\n",
       "    <tr>\n",
       "      <th>0</th>\n",
       "      <td>id</td>\n",
       "      <td>[0]</td>\n",
       "      <td>60</td>\n",
       "      <td>0.000146</td>\n",
       "    </tr>\n",
       "    <tr>\n",
       "      <th>1</th>\n",
       "      <td>id</td>\n",
       "      <td>[1]</td>\n",
       "      <td>60</td>\n",
       "      <td>0.000713</td>\n",
       "    </tr>\n",
       "    <tr>\n",
       "      <th>2</th>\n",
       "      <td>id</td>\n",
       "      <td>[2]</td>\n",
       "      <td>60</td>\n",
       "      <td>0.000226</td>\n",
       "    </tr>\n",
       "    <tr>\n",
       "      <th>3</th>\n",
       "      <td>id</td>\n",
       "      <td>[3]</td>\n",
       "      <td>60</td>\n",
       "      <td>0.000185</td>\n",
       "    </tr>\n",
       "    <tr>\n",
       "      <th>4</th>\n",
       "      <td>id</td>\n",
       "      <td>[4]</td>\n",
       "      <td>60</td>\n",
       "      <td>0.001490</td>\n",
       "    </tr>\n",
       "    <tr>\n",
       "      <th>...</th>\n",
       "      <td>...</td>\n",
       "      <td>...</td>\n",
       "      <td>...</td>\n",
       "      <td>...</td>\n",
       "    </tr>\n",
       "    <tr>\n",
       "      <th>774</th>\n",
       "      <td>reset</td>\n",
       "      <td>[122]</td>\n",
       "      <td>3660</td>\n",
       "      <td>NaN</td>\n",
       "    </tr>\n",
       "    <tr>\n",
       "      <th>775</th>\n",
       "      <td>reset</td>\n",
       "      <td>[123]</td>\n",
       "      <td>3660</td>\n",
       "      <td>NaN</td>\n",
       "    </tr>\n",
       "    <tr>\n",
       "      <th>776</th>\n",
       "      <td>reset</td>\n",
       "      <td>[124]</td>\n",
       "      <td>3660</td>\n",
       "      <td>NaN</td>\n",
       "    </tr>\n",
       "    <tr>\n",
       "      <th>777</th>\n",
       "      <td>reset</td>\n",
       "      <td>[125]</td>\n",
       "      <td>3660</td>\n",
       "      <td>NaN</td>\n",
       "    </tr>\n",
       "    <tr>\n",
       "      <th>778</th>\n",
       "      <td>reset</td>\n",
       "      <td>[126]</td>\n",
       "      <td>3660</td>\n",
       "      <td>NaN</td>\n",
       "    </tr>\n",
       "  </tbody>\n",
       "</table>\n",
       "<p>779 rows × 4 columns</p>\n",
       "</div>"
      ],
      "text/plain": [
       "    gate_name qubits  gate_length  gate_error\n",
       "0          id    [0]           60    0.000146\n",
       "1          id    [1]           60    0.000713\n",
       "2          id    [2]           60    0.000226\n",
       "3          id    [3]           60    0.000185\n",
       "4          id    [4]           60    0.001490\n",
       "..        ...    ...          ...         ...\n",
       "774     reset  [122]         3660         NaN\n",
       "775     reset  [123]         3660         NaN\n",
       "776     reset  [124]         3660         NaN\n",
       "777     reset  [125]         3660         NaN\n",
       "778     reset  [126]         3660         NaN\n",
       "\n",
       "[779 rows x 4 columns]"
      ]
     },
     "execution_count": 25,
     "metadata": {},
     "output_type": "execute_result"
    }
   ],
   "source": [
    "pattern = ibmQname+'gate_param_values.csv'\n",
    "filename = find(pattern, new_dir)\n",
    "colnames = ['gate_name', 'qubits', 'gate_length', 'gate_error']\n",
    "GateParamsPD = pandas.read_csv(filename, names=colnames)\n",
    "GateParamsPD"
   ]
  },
  {
   "cell_type": "code",
   "execution_count": 26,
   "id": "46879ff3-04ac-4af8-bae6-b4f563b42059",
   "metadata": {},
   "outputs": [
    {
     "data": {
      "text/html": [
       "<div>\n",
       "<style scoped>\n",
       "    .dataframe tbody tr th:only-of-type {\n",
       "        vertical-align: middle;\n",
       "    }\n",
       "\n",
       "    .dataframe tbody tr th {\n",
       "        vertical-align: top;\n",
       "    }\n",
       "\n",
       "    .dataframe thead th {\n",
       "        text-align: right;\n",
       "    }\n",
       "</style>\n",
       "<table border=\"1\" class=\"dataframe\">\n",
       "  <thead>\n",
       "    <tr style=\"text-align: right;\">\n",
       "      <th></th>\n",
       "      <th>gate_name</th>\n",
       "      <th>qubits</th>\n",
       "      <th>gate_error</th>\n",
       "    </tr>\n",
       "  </thead>\n",
       "  <tbody>\n",
       "    <tr>\n",
       "      <th>0</th>\n",
       "      <td>id</td>\n",
       "      <td>[0]</td>\n",
       "      <td>0.000146</td>\n",
       "    </tr>\n",
       "    <tr>\n",
       "      <th>1</th>\n",
       "      <td>id</td>\n",
       "      <td>[1]</td>\n",
       "      <td>0.000713</td>\n",
       "    </tr>\n",
       "    <tr>\n",
       "      <th>2</th>\n",
       "      <td>id</td>\n",
       "      <td>[2]</td>\n",
       "      <td>0.000226</td>\n",
       "    </tr>\n",
       "    <tr>\n",
       "      <th>3</th>\n",
       "      <td>id</td>\n",
       "      <td>[3]</td>\n",
       "      <td>0.000185</td>\n",
       "    </tr>\n",
       "    <tr>\n",
       "      <th>4</th>\n",
       "      <td>id</td>\n",
       "      <td>[4]</td>\n",
       "      <td>0.001490</td>\n",
       "    </tr>\n",
       "    <tr>\n",
       "      <th>...</th>\n",
       "      <td>...</td>\n",
       "      <td>...</td>\n",
       "      <td>...</td>\n",
       "    </tr>\n",
       "    <tr>\n",
       "      <th>774</th>\n",
       "      <td>reset</td>\n",
       "      <td>[122]</td>\n",
       "      <td>NaN</td>\n",
       "    </tr>\n",
       "    <tr>\n",
       "      <th>775</th>\n",
       "      <td>reset</td>\n",
       "      <td>[123]</td>\n",
       "      <td>NaN</td>\n",
       "    </tr>\n",
       "    <tr>\n",
       "      <th>776</th>\n",
       "      <td>reset</td>\n",
       "      <td>[124]</td>\n",
       "      <td>NaN</td>\n",
       "    </tr>\n",
       "    <tr>\n",
       "      <th>777</th>\n",
       "      <td>reset</td>\n",
       "      <td>[125]</td>\n",
       "      <td>NaN</td>\n",
       "    </tr>\n",
       "    <tr>\n",
       "      <th>778</th>\n",
       "      <td>reset</td>\n",
       "      <td>[126]</td>\n",
       "      <td>NaN</td>\n",
       "    </tr>\n",
       "  </tbody>\n",
       "</table>\n",
       "<p>779 rows × 3 columns</p>\n",
       "</div>"
      ],
      "text/plain": [
       "    gate_name qubits  gate_error\n",
       "0          id    [0]    0.000146\n",
       "1          id    [1]    0.000713\n",
       "2          id    [2]    0.000226\n",
       "3          id    [3]    0.000185\n",
       "4          id    [4]    0.001490\n",
       "..        ...    ...         ...\n",
       "774     reset  [122]         NaN\n",
       "775     reset  [123]         NaN\n",
       "776     reset  [124]         NaN\n",
       "777     reset  [125]         NaN\n",
       "778     reset  [126]         NaN\n",
       "\n",
       "[779 rows x 3 columns]"
      ]
     },
     "execution_count": 26,
     "metadata": {},
     "output_type": "execute_result"
    }
   ],
   "source": [
    "pattern = ibmQname+'gate_error_values.csv'\n",
    "filename = find(pattern, new_dir)\n",
    "colnames = ['gate_name', 'qubits', 'gate_error']\n",
    "GateErrorsPD = pandas.read_csv(filename, names=colnames)\n",
    "GateErrorsPD"
   ]
  },
  {
   "cell_type": "code",
   "execution_count": 27,
   "id": "50e0a7b4-ae36-4bc1-9625-417cc3096d03",
   "metadata": {},
   "outputs": [
    {
     "data": {
      "text/html": [
       "<div>\n",
       "<style scoped>\n",
       "    .dataframe tbody tr th:only-of-type {\n",
       "        vertical-align: middle;\n",
       "    }\n",
       "\n",
       "    .dataframe tbody tr th {\n",
       "        vertical-align: top;\n",
       "    }\n",
       "\n",
       "    .dataframe thead th {\n",
       "        text-align: right;\n",
       "    }\n",
       "</style>\n",
       "<table border=\"1\" class=\"dataframe\">\n",
       "  <thead>\n",
       "    <tr style=\"text-align: right;\">\n",
       "      <th></th>\n",
       "      <th>gate_name</th>\n",
       "      <th>qubits</th>\n",
       "      <th>gate_error</th>\n",
       "    </tr>\n",
       "  </thead>\n",
       "  <tbody>\n",
       "    <tr>\n",
       "      <th>0</th>\n",
       "      <td>id</td>\n",
       "      <td>[0]</td>\n",
       "      <td>0.000146</td>\n",
       "    </tr>\n",
       "    <tr>\n",
       "      <th>1</th>\n",
       "      <td>id</td>\n",
       "      <td>[1]</td>\n",
       "      <td>0.000713</td>\n",
       "    </tr>\n",
       "    <tr>\n",
       "      <th>2</th>\n",
       "      <td>id</td>\n",
       "      <td>[2]</td>\n",
       "      <td>0.000226</td>\n",
       "    </tr>\n",
       "    <tr>\n",
       "      <th>3</th>\n",
       "      <td>id</td>\n",
       "      <td>[3]</td>\n",
       "      <td>0.000185</td>\n",
       "    </tr>\n",
       "    <tr>\n",
       "      <th>4</th>\n",
       "      <td>id</td>\n",
       "      <td>[4]</td>\n",
       "      <td>0.001490</td>\n",
       "    </tr>\n",
       "    <tr>\n",
       "      <th>...</th>\n",
       "      <td>...</td>\n",
       "      <td>...</td>\n",
       "      <td>...</td>\n",
       "    </tr>\n",
       "    <tr>\n",
       "      <th>774</th>\n",
       "      <td>reset</td>\n",
       "      <td>[122]</td>\n",
       "      <td>NaN</td>\n",
       "    </tr>\n",
       "    <tr>\n",
       "      <th>775</th>\n",
       "      <td>reset</td>\n",
       "      <td>[123]</td>\n",
       "      <td>NaN</td>\n",
       "    </tr>\n",
       "    <tr>\n",
       "      <th>776</th>\n",
       "      <td>reset</td>\n",
       "      <td>[124]</td>\n",
       "      <td>NaN</td>\n",
       "    </tr>\n",
       "    <tr>\n",
       "      <th>777</th>\n",
       "      <td>reset</td>\n",
       "      <td>[125]</td>\n",
       "      <td>NaN</td>\n",
       "    </tr>\n",
       "    <tr>\n",
       "      <th>778</th>\n",
       "      <td>reset</td>\n",
       "      <td>[126]</td>\n",
       "      <td>NaN</td>\n",
       "    </tr>\n",
       "  </tbody>\n",
       "</table>\n",
       "<p>779 rows × 3 columns</p>\n",
       "</div>"
      ],
      "text/plain": [
       "    gate_name qubits  gate_error\n",
       "0          id    [0]    0.000146\n",
       "1          id    [1]    0.000713\n",
       "2          id    [2]    0.000226\n",
       "3          id    [3]    0.000185\n",
       "4          id    [4]    0.001490\n",
       "..        ...    ...         ...\n",
       "774     reset  [122]         NaN\n",
       "775     reset  [123]         NaN\n",
       "776     reset  [124]         NaN\n",
       "777     reset  [125]         NaN\n",
       "778     reset  [126]         NaN\n",
       "\n",
       "[779 rows x 3 columns]"
      ]
     },
     "execution_count": 27,
     "metadata": {},
     "output_type": "execute_result"
    }
   ],
   "source": [
    "pattern = ibmQname+'gate_length_values.csv'\n",
    "filename = find(pattern, new_dir)\n",
    "colnames = ['gate_name', 'qubits', 'gate_length']\n",
    "GateLengthsPD = pandas.read_csv(filename, names=colnames)\n",
    "GateLengthsPD\n",
    "GateErrorsPD"
   ]
  },
  {
   "cell_type": "code",
   "execution_count": 28,
   "id": "4ad78d7a-543c-4336-8d3f-5018db0852f0",
   "metadata": {},
   "outputs": [
    {
     "data": {
      "text/html": [
       "<div>\n",
       "<style scoped>\n",
       "    .dataframe tbody tr th:only-of-type {\n",
       "        vertical-align: middle;\n",
       "    }\n",
       "\n",
       "    .dataframe tbody tr th {\n",
       "        vertical-align: top;\n",
       "    }\n",
       "\n",
       "    .dataframe thead th {\n",
       "        text-align: right;\n",
       "    }\n",
       "</style>\n",
       "<table border=\"1\" class=\"dataframe\">\n",
       "  <thead>\n",
       "    <tr style=\"text-align: right;\">\n",
       "      <th></th>\n",
       "      <th>T1</th>\n",
       "      <th>T2</th>\n",
       "      <th>Freqs</th>\n",
       "    </tr>\n",
       "  </thead>\n",
       "  <tbody>\n",
       "    <tr>\n",
       "      <th>0</th>\n",
       "      <td>471109.794466</td>\n",
       "      <td>262725.138445</td>\n",
       "      <td>4.822478</td>\n",
       "    </tr>\n",
       "    <tr>\n",
       "      <th>1</th>\n",
       "      <td>22086.872370</td>\n",
       "      <td>52635.229432</td>\n",
       "      <td>4.772685</td>\n",
       "    </tr>\n",
       "    <tr>\n",
       "      <th>2</th>\n",
       "      <td>181535.014552</td>\n",
       "      <td>329058.520804</td>\n",
       "      <td>4.718297</td>\n",
       "    </tr>\n",
       "    <tr>\n",
       "      <th>3</th>\n",
       "      <td>383887.743283</td>\n",
       "      <td>166860.890255</td>\n",
       "      <td>4.800226</td>\n",
       "    </tr>\n",
       "    <tr>\n",
       "      <th>4</th>\n",
       "      <td>304941.310860</td>\n",
       "      <td>84646.301571</td>\n",
       "      <td>4.803165</td>\n",
       "    </tr>\n",
       "    <tr>\n",
       "      <th>...</th>\n",
       "      <td>...</td>\n",
       "      <td>...</td>\n",
       "      <td>...</td>\n",
       "    </tr>\n",
       "    <tr>\n",
       "      <th>122</th>\n",
       "      <td>353754.257931</td>\n",
       "      <td>277774.741384</td>\n",
       "      <td>4.880446</td>\n",
       "    </tr>\n",
       "    <tr>\n",
       "      <th>123</th>\n",
       "      <td>273130.927621</td>\n",
       "      <td>242575.065872</td>\n",
       "      <td>5.058563</td>\n",
       "    </tr>\n",
       "    <tr>\n",
       "      <th>124</th>\n",
       "      <td>343613.272951</td>\n",
       "      <td>241429.570592</td>\n",
       "      <td>4.846353</td>\n",
       "    </tr>\n",
       "    <tr>\n",
       "      <th>125</th>\n",
       "      <td>159874.541321</td>\n",
       "      <td>162778.614411</td>\n",
       "      <td>5.042870</td>\n",
       "    </tr>\n",
       "    <tr>\n",
       "      <th>126</th>\n",
       "      <td>272504.871102</td>\n",
       "      <td>151312.874999</td>\n",
       "      <td>4.993300</td>\n",
       "    </tr>\n",
       "  </tbody>\n",
       "</table>\n",
       "<p>127 rows × 3 columns</p>\n",
       "</div>"
      ],
      "text/plain": [
       "                T1             T2     Freqs\n",
       "0    471109.794466  262725.138445  4.822478\n",
       "1     22086.872370   52635.229432  4.772685\n",
       "2    181535.014552  329058.520804  4.718297\n",
       "3    383887.743283  166860.890255  4.800226\n",
       "4    304941.310860   84646.301571  4.803165\n",
       "..             ...            ...       ...\n",
       "122  353754.257931  277774.741384  4.880446\n",
       "123  273130.927621  242575.065872  5.058563\n",
       "124  343613.272951  241429.570592  4.846353\n",
       "125  159874.541321  162778.614411  5.042870\n",
       "126  272504.871102  151312.874999  4.993300\n",
       "\n",
       "[127 rows x 3 columns]"
      ]
     },
     "execution_count": 28,
     "metadata": {},
     "output_type": "execute_result"
    }
   ],
   "source": [
    "pattern = ibmQname+'thermal_relaxation_values.csv'\n",
    "filename = find(pattern, new_dir)\n",
    "colnames = ['T1', 'T2', 'Freqs']\n",
    "GateThermals = pandas.read_csv(filename, names=colnames)\n",
    "GateThermals"
   ]
  },
  {
   "cell_type": "code",
   "execution_count": 29,
   "id": "f4ce7fed-5a05-4c9d-b840-19c232abaca5",
   "metadata": {},
   "outputs": [],
   "source": [
    "from numpy import inf\n",
    "\n",
    "# Time and frequency unit conversions\n",
    "_NANOSECOND_UNITS = {\"s\": 1e9, \"ms\": 1e6, \"µs\": 1e3, \"us\": 1e3, \"ns\": 1}\n",
    "_GHZ_UNITS = {\"Hz\": 1e-9, \"KHz\": 1e-6, \"MHz\": 1e-3, \"GHz\": 1, \"THz\": 1e3}"
   ]
  },
  {
   "cell_type": "code",
   "execution_count": 30,
   "id": "05ab448a-74dc-4c97-984b-eb32e613c955",
   "metadata": {},
   "outputs": [],
   "source": [
    "def getDecoherenceTimes(t1, t2, unit):\n",
    "    '''Returns the thermal relaxation time T1 and the qubit dephasing time T2, as given by IBMQ.'''\n",
    "    t1er = t1.tolist()\n",
    "    t2er = t2.tolist()\n",
    "\n",
    "    for i in range(0, len(t1er)):\n",
    "        t1er[i] *= _NANOSECOND_UNITS.get(unit, 1)\n",
    "        t2er[i] *= _NANOSECOND_UNITS.get(unit, 1)\n",
    "\n",
    "    T1s = np.array(t1er)\n",
    "    T2s = np.array(t2er)\n",
    "    \n",
    "    # Check for error in IBMQ's measurements (i.e it must always be T2 <= 2T1)\n",
    "    c = 0\n",
    "    for i in range(0,len(T1s)):\n",
    "        if (T2s[i] > 2*T1s[i]):\n",
    "            c = 1\n",
    "            print(\"ERROR: incompatible decay rates - Qubit Q\" + str(i) + \", T2 =\", T2s[i], \"and T1 =\", T1s[i])\n",
    "    if (c == 0):\n",
    "        print(r'Checking decoherence times: all ok')\n",
    "\n",
    "    return T1s,T2s"
   ]
  },
  {
   "cell_type": "code",
   "execution_count": 31,
   "id": "faf18656-9669-4b14-9996-5201d0d2ca37",
   "metadata": {},
   "outputs": [
    {
     "name": "stdout",
     "output_type": "stream",
     "text": [
      "ERROR: incompatible decay rates - Qubit Q1, T2 = 52635229.43150382 and T1 = 22086872.3696948\n",
      "ERROR: incompatible decay rates - Qubit Q16, T2 = 332425817.6295806 and T1 = 7717159.571191255\n",
      "ERROR: incompatible decay rates - Qubit Q25, T2 = 194027469.38173613 and T1 = 72224016.36930402\n",
      "ERROR: incompatible decay rates - Qubit Q106, T2 = 127227649.1792076 and T1 = 33118004.991713163\n"
     ]
    }
   ],
   "source": [
    "ibmQname = '*osaka*'\n",
    "filename = find(pattern, new_dir)\n",
    "colnames = ['T1', 'T2', 'Freqs']\n",
    "GateThermals = pandas.read_csv(filename, names=colnames)\n",
    "\n",
    "t1 = GateThermals['T1']\n",
    "t2 = GateThermals['T2']\n",
    "t1s, t2s = getDecoherenceTimes(t1, t2, 'us')"
   ]
  },
  {
   "cell_type": "code",
   "execution_count": 47,
   "id": "86cfbbcf-2fbd-49af-8d53-cf03ba5a4535",
   "metadata": {},
   "outputs": [
    {
     "name": "stdout",
     "output_type": "stream",
     "text": [
      "ERROR: incompatible decay rates - Qubit Q35, T2 = 23563947.0674518 and T1 = 11145571.81708257\n",
      "ERROR: incompatible decay rates - Qubit Q55, T2 = 456554592.48840976 and T1 = 181150131.61487696\n",
      "ERROR: incompatible decay rates - Qubit Q67, T2 = 184034695.5411353 and T1 = 70142184.0242755\n"
     ]
    }
   ],
   "source": [
    "ibmQname = '*sherbrooke*'\n",
    "pattern = ibmQname+'thermal_relaxation_values.csv'\n",
    "filename = find(pattern, new_dir)\n",
    "colnames = ['T1', 'T2', 'Freqs']\n",
    "GateThermals = pandas.read_csv(filename, names=colnames)\n",
    "\n",
    "t1 = GateThermals['T1']\n",
    "t2 = GateThermals['T2']\n",
    "t1s, t2s = getDecoherenceTimes(t1, t2, 'us')"
   ]
  },
  {
   "cell_type": "code",
   "execution_count": 48,
   "id": "37ac4c15-eca5-46b9-8266-c9ca60d207d0",
   "metadata": {},
   "outputs": [
    {
     "name": "stdout",
     "output_type": "stream",
     "text": [
      "ERROR: incompatible decay rates - Qubit Q117, T2 = 52995077.201300845 and T1 = 868321.2806704564\n",
      "ERROR: incompatible decay rates - Qubit Q126, T2 = 135689772.41546738 and T1 = 37575238.19162096\n"
     ]
    }
   ],
   "source": [
    "ibmQname = '*kyoto*'\n",
    "pattern = ibmQname+'thermal_relaxation_values.csv'\n",
    "filename = find(pattern, new_dir)\n",
    "colnames = ['T1', 'T2', 'Freqs']\n",
    "GateThermals = pandas.read_csv(filename, names=colnames)\n",
    "\n",
    "t1 = GateThermals['T1']\n",
    "t2 = GateThermals['T2']\n",
    "t1s, t2s = getDecoherenceTimes(t1, t2, 'us')"
   ]
  },
  {
   "cell_type": "code",
   "execution_count": 49,
   "id": "01e29690-0b82-4910-93fe-2d7b175f47cd",
   "metadata": {},
   "outputs": [
    {
     "name": "stdout",
     "output_type": "stream",
     "text": [
      "ERROR: incompatible decay rates - Qubit Q3, T2 = 260725179.60808867 and T1 = 93652487.08478944\n",
      "ERROR: incompatible decay rates - Qubit Q42, T2 = 134494785.61493972 and T1 = 21515767.2035338\n"
     ]
    }
   ],
   "source": [
    "ibmQname = '*brisbane*'\n",
    "pattern = ibmQname+'thermal_relaxation_values.csv'\n",
    "filename = find(pattern, new_dir)\n",
    "colnames = ['T1', 'T2', 'Freqs']\n",
    "GateThermals = pandas.read_csv(filename, names=colnames)\n",
    "\n",
    "t1 = GateThermals['T1']\n",
    "t2 = GateThermals['T2']\n",
    "t1s, t2s = getDecoherenceTimes(t1, t2, 'us')"
   ]
  },
  {
   "cell_type": "markdown",
   "id": "32dddc99-0bcd-4bee-957e-af319a1334a4",
   "metadata": {},
   "source": [
    "# Example"
   ]
  },
  {
   "cell_type": "code",
   "execution_count": 35,
   "id": "0c96440a-1ff7-4a6b-a6a3-277e6f5b2776",
   "metadata": {},
   "outputs": [],
   "source": [
    "import noise_model_modified # import noise model leveraging csv files or quantum database generated before"
   ]
  },
  {
   "cell_type": "code",
   "execution_count": 22,
   "id": "7c57865a-b05e-4eb7-8f4d-25e56499cada",
   "metadata": {},
   "outputs": [],
   "source": [
    "dir_name = 'QuantumDatabase_6' #give your database version name, e.g. QuantumDatabase_v6 \n",
    "path = '/path/to/your/QuantumDatabase/' # insert a path you stored your quantum database\n",
    "dir = pathlib.Path(path, dir_name)"
   ]
  },
  {
   "cell_type": "code",
   "execution_count": 23,
   "id": "cd28e07c-6816-4e73-afcd-3c57a20022eb",
   "metadata": {},
   "outputs": [
    {
     "data": {
      "text/plain": [
       "<qiskit.circuit.instructionset.InstructionSet at 0x16e306fa0>"
      ]
     },
     "execution_count": 23,
     "metadata": {},
     "output_type": "execute_result"
    }
   ],
   "source": [
    "# Make a circuit\n",
    "circ = QuantumCircuit(3, 3)\n",
    "circ.h(0)\n",
    "circ.cx(0, 1)\n",
    "circ.cx(1, 2)\n",
    "circ.measure([0, 1, 2], [0, 1, 2])"
   ]
  },
  {
   "cell_type": "code",
   "execution_count": 24,
   "id": "c925522d-67d2-4cc7-89e2-cab7de9f83db",
   "metadata": {},
   "outputs": [
    {
     "data": {
      "image/png": "[encoded data removed]",
      "text/plain": [
       "<Figure size 621.941x367.889 with 1 Axes>"
      ]
     },
     "execution_count": 24,
     "metadata": {},
     "output_type": "execute_result"
    }
   ],
   "source": [
    "circ.draw(output=\"mpl\", idle_wires=False, style=\"iqp\")"
   ]
  },
  {
   "cell_type": "code",
   "execution_count": null,
   "id": "95f18de3-97d9-429c-b7fa-44b198432ec5",
   "metadata": {},
   "outputs": [],
   "source": [
    "backendName = '*sherbrooke*' \n",
    "noise_model = noise_model_modified.NoiseModel.from_backend(\n",
    "    gate_error=True,\n",
    "    readout_error=True,\n",
    "    thermal_relaxation=True,\n",
    "    temperature=0,\n",
    "    gate_lengths=True,\n",
    "    gate_length_units=\"ns\",\n",
    "    warnings=None,\n",
    "    path = dir,\n",
    "    ibmname = backendName\n",
    ")"
   ]
  },
  {
   "cell_type": "raw",
   "id": "8589986f-efef-48a4-855c-1a09188f26aa",
   "metadata": {},
   "source": [
    "pattern = backendName+'coupling_map.csv'\n",
    "filename = find(pattern, new_dir)\n",
    "coupling_map = pandas.read_csv(filename, header = None)\n",
    "\n",
    "coupling_m = []\n",
    "for i in coupling_map.values.tolist()[0]:\n",
    "    first = int(i.split('[')[1].split(']')[0].split(',')[0])\n",
    "    second = int(i.split('[')[1].split(']')[0].split(',')[1])\n",
    "    arr = [first, second]\n",
    "    coupling_m.append(arr)"
   ]
  },
  {
   "cell_type": "code",
   "execution_count": 11,
   "id": "05ae8f0f-2ce8-4a4c-9a87-9a7843ac465f",
   "metadata": {},
   "outputs": [
    {
     "data": {
      "image/png": "[encoded data removed]",
      "text/plain": [
       "<Figure size 640x480 with 1 Axes>"
      ]
     },
     "execution_count": 11,
     "metadata": {},
     "output_type": "execute_result"
    }
   ],
   "source": [
    "#emulated qc- Sherboorke-calibrated\n",
    "\n",
    "# Run the noisy simulation\n",
    "sim_thermal = AerSimulator(noise_model=noise_model)\n",
    " \n",
    "# Transpile circuit for noisy basis gates\n",
    "passmanager = generate_preset_pass_manager(optimization_level=3, backend=sim_thermal)\n",
    "circ_tthermal = passmanager.run(circ)\n",
    " \n",
    "# Run and get counts\n",
    "result_thermal = sim_thermal.run(circ_tthermal).result()\n",
    "counts_thermal = result_thermal.get_counts(0)\n",
    " \n",
    "# Plot noisy output\n",
    "plot_histogram(counts_thermal)"
   ]
  },
  {
   "cell_type": "code",
   "execution_count": null,
   "id": "54308955-e989-4f4a-a890-98f0d3883d2f",
   "metadata": {},
   "outputs": [],
   "source": [
    "backendName = '*brisbane*' \n",
    "noise_model = noise_model_modified.NoiseModel.from_backend(\n",
    "    gate_error=True,\n",
    "    readout_error=True,\n",
    "    thermal_relaxation=True,\n",
    "    temperature=0,\n",
    "    gate_lengths=True,\n",
    "    gate_length_units=\"ns\",\n",
    "    warnings=None,\n",
    "    path = dir,\n",
    "    ibmname = backendName\n",
    ")"
   ]
  },
  {
   "cell_type": "code",
   "execution_count": 39,
   "id": "6dcd2571-897b-4ca5-947a-67c52237739d",
   "metadata": {},
   "outputs": [
    {
     "data": {
      "image/png": "[encoded data removed]",
      "text/plain": [
       "<Figure size 640x480 with 1 Axes>"
      ]
     },
     "execution_count": 39,
     "metadata": {},
     "output_type": "execute_result"
    }
   ],
   "source": [
    "#emulated qc- Brisbane\n",
    "\n",
    "# Run the noisy simulation\n",
    "sim_thermal = AerSimulator(noise_model=noise_model)\n",
    " \n",
    "# Transpile circuit for noisy basis gates\n",
    "passmanager = generate_preset_pass_manager(optimization_level=3, backend=sim_thermal)\n",
    "circ_tthermal = passmanager.run(circ)\n",
    " \n",
    "# Run and get counts\n",
    "result_thermal = sim_thermal.run(circ_tthermal).result()\n",
    "counts_thermal = result_thermal.get_counts(0)\n",
    " \n",
    "# Plot noisy output\n",
    "plot_histogram(counts_thermal)"
   ]
  },
  {
   "cell_type": "code",
   "execution_count": null,
   "id": "5141a5fe-887b-4b62-9f20-7ef288456065",
   "metadata": {},
   "outputs": [],
   "source": [
    "backendName = '*osaka*'\n",
    "noise_model = noise_model_modified.NoiseModel.from_backend(\n",
    "    gate_error=True,\n",
    "    readout_error=True,\n",
    "    thermal_relaxation=True,\n",
    "    temperature=0,\n",
    "    gate_lengths=True,\n",
    "    gate_length_units=\"ns\",\n",
    "    warnings=None,\n",
    "    path = dir,\n",
    "    ibmname = backendName\n",
    ")"
   ]
  },
  {
   "cell_type": "code",
   "execution_count": 35,
   "id": "8deae837-a849-4161-82ec-b1ca348c0d3f",
   "metadata": {},
   "outputs": [
    {
     "data": {
      "image/png": "[encoded data removed]",
      "text/plain": [
       "<Figure size 640x480 with 1 Axes>"
      ]
     },
     "execution_count": 35,
     "metadata": {},
     "output_type": "execute_result"
    }
   ],
   "source": [
    "#emulated qc- Osaka\n",
    "\n",
    "# Run the noisy simulation\n",
    "sim_thermal = AerSimulator(noise_model=noise_model)\n",
    " \n",
    "# Transpile circuit for noisy basis gates\n",
    "passmanager = generate_preset_pass_manager(optimization_level=3, backend=sim_thermal)\n",
    "circ_tthermal = passmanager.run(circ)\n",
    " \n",
    "# Run and get counts\n",
    "result_thermal = sim_thermal.run(circ_tthermal).result()\n",
    "counts_thermal = result_thermal.get_counts(0)\n",
    " \n",
    "# Plot noisy output\n",
    "plot_histogram(counts_thermal)"
   ]
  },
  {
   "cell_type": "code",
   "execution_count": null,
   "id": "dc465db3-f181-4e8d-98cb-f5a2305e7915",
   "metadata": {},
   "outputs": [],
   "source": [
    "backendName = '*sherbrooke*'\n",
    "noise_model = noise_model_modified.NoiseModel.from_backend(\n",
    "    gate_error=True,\n",
    "    readout_error=True,\n",
    "    thermal_relaxation=True,\n",
    "    temperature=0,\n",
    "    gate_lengths=True,\n",
    "    gate_length_units=\"ns\",\n",
    "    warnings=None,\n",
    "    path = dir,\n",
    "    ibmname = backendName\n",
    ")"
   ]
  },
  {
   "cell_type": "code",
   "execution_count": 37,
   "id": "0c7eb85c-ba47-45af-bc9c-5670841cc115",
   "metadata": {},
   "outputs": [
    {
     "data": {
      "image/png": "[encoded data removed]",
      "text/plain": [
       "<Figure size 640x480 with 1 Axes>"
      ]
     },
     "execution_count": 37,
     "metadata": {},
     "output_type": "execute_result"
    }
   ],
   "source": [
    "#emulated qc- Sherbrooke\n",
    "\n",
    "# Run the noisy simulation\n",
    "sim_thermal = AerSimulator(noise_model=noise_model)\n",
    " \n",
    "# Transpile circuit for noisy basis gates\n",
    "passmanager = generate_preset_pass_manager(optimization_level=3, backend=sim_thermal)\n",
    "circ_tthermal = passmanager.run(circ)\n",
    " \n",
    "# Run and get counts\n",
    "result_thermal = sim_thermal.run(circ_tthermal).result()\n",
    "counts_thermal = result_thermal.get_counts(0)\n",
    " \n",
    "# Plot noisy output\n",
    "plot_histogram(counts_thermal)"
   ]
  },
  {
   "cell_type": "code",
   "execution_count": null,
   "id": "b6295731-848b-413e-b676-4048b174be80",
   "metadata": {},
   "outputs": [],
   "source": [
    "backendName = '*kyoto*'\n",
    "noise_model = noise_model_modified.NoiseModel.from_backend(\n",
    "    gate_error=True,\n",
    "    readout_error=True,\n",
    "    thermal_relaxation=True,\n",
    "    temperature=0,\n",
    "    gate_lengths=True,\n",
    "    gate_length_units=\"ns\",\n",
    "    warnings=None,\n",
    "    path = dir,\n",
    "    ibmname = backendName\n",
    ")"
   ]
  },
  {
   "cell_type": "code",
   "execution_count": 20,
   "id": "c5426b64-a59f-4257-8725-e8d2c16a6f0f",
   "metadata": {},
   "outputs": [
    {
     "data": {
      "image/png": "[encoded data removed]",
      "text/plain": [
       "<Figure size 640x480 with 1 Axes>"
      ]
     },
     "execution_count": 20,
     "metadata": {},
     "output_type": "execute_result"
    }
   ],
   "source": [
    "#emulated qc- Kyoto with replaced readout error\n",
    "\n",
    "# Run the noisy simulation\n",
    "sim_thermal = AerSimulator(noise_model=noise_model)\n",
    " \n",
    "# Transpile circuit for noisy basis gates\n",
    "passmanager = generate_preset_pass_manager(optimization_level=3, backend=sim_thermal)\n",
    "circ_tthermal = passmanager.run(circ)\n",
    " \n",
    "# Run and get counts\n",
    "result_thermal = sim_thermal.run(circ_tthermal).result()\n",
    "counts_thermal = result_thermal.get_counts(0)\n",
    " \n",
    "# Plot noisy output\n",
    "plot_histogram(counts_thermal)"
   ]
  },
  {
   "cell_type": "code",
   "execution_count": 39,
   "id": "2cca4eaa-9422-4de0-ab9b-25f634fb09a8",
   "metadata": {},
   "outputs": [
    {
     "data": {
      "image/png": "[encoded data removed]",
      "text/plain": [
       "<Figure size 640x480 with 1 Axes>"
      ]
     },
     "execution_count": 39,
     "metadata": {},
     "output_type": "execute_result"
    }
   ],
   "source": [
    "#emulated qc- Kyoto\n",
    "\n",
    "# Run the noisy simulation\n",
    "sim_thermal = AerSimulator(noise_model=noise_model)\n",
    " \n",
    "# Transpile circuit for noisy basis gates\n",
    "passmanager = generate_preset_pass_manager(optimization_level=3, backend=sim_thermal)\n",
    "circ_tthermal = passmanager.run(circ)\n",
    " \n",
    "# Run and get counts\n",
    "result_thermal = sim_thermal.run(circ_tthermal).result()\n",
    "counts_thermal = result_thermal.get_counts(0)\n",
    " \n",
    "# Plot noisy output\n",
    "plot_histogram(counts_thermal)"
   ]
  },
  {
   "cell_type": "markdown",
   "id": "ec6d849b-0b61-4e6f-933f-ae38bc959aa5",
   "metadata": {},
   "source": [
    "# Compare your quantum databse with IBM backends "
   ]
  },
  {
   "cell_type": "code",
   "execution_count": 51,
   "id": "900f66f2-8574-44e8-91f6-5b6d29b92b83",
   "metadata": {},
   "outputs": [],
   "source": [
    "import numpy as np\n",
    "from qiskit import QuantumCircuit\n",
    "from qiskit.quantum_info import Kraus, SuperOp\n",
    "from qiskit.visualization import plot_histogram\n",
    "from qiskit.transpiler.preset_passmanagers import generate_preset_pass_manager\n",
    "from qiskit_aer import AerSimulator\n",
    " \n",
    "# Import from Qiskit Aer noise module if you would like to compare\n",
    "from qiskit_aer.noise import (\n",
    "    NoiseModel,\n",
    "    QuantumError,\n",
    "    ReadoutError,\n",
    "    depolarizing_error,\n",
    "    pauli_error,\n",
    "    thermal_relaxation_error,\n",
    ")"
   ]
  },
  {
   "cell_type": "code",
   "execution_count": 194,
   "id": "78eb1c6d-2a49-40d1-b86b-0013695bd065",
   "metadata": {},
   "outputs": [],
   "source": [
    "noise_model = NoiseModel.from_backend(backend)"
   ]
  },
  {
   "cell_type": "code",
   "execution_count": 186,
   "id": "94434bcb-cf52-43a2-9151-0d57e96733e1",
   "metadata": {},
   "outputs": [
    {
     "data": {
      "image/png": "[encoded data removed]",
      "text/plain": [
       "<Figure size 640x480 with 1 Axes>"
      ]
     },
     "execution_count": 186,
     "metadata": {},
     "output_type": "execute_result"
    }
   ],
   "source": [
    "#emulated qc- Sherbrooke\n",
    "\n",
    "# Run the noisy simulation\n",
    "sim_thermal = AerSimulator(noise_model=noise_model)\n",
    " \n",
    "# Transpile circuit for noisy basis gates\n",
    "passmanager = generate_preset_pass_manager(optimization_level=3, backend=sim_thermal)\n",
    "circ_tthermal = passmanager.run(circ)\n",
    " \n",
    "# Run and get counts\n",
    "result_thermal = sim_thermal.run(circ_tthermal).result()\n",
    "counts_thermal = result_thermal.get_counts(0)\n",
    " \n",
    "# Plot noisy output\n",
    "plot_histogram(counts_thermal)"
   ]
  },
  {
   "cell_type": "code",
   "execution_count": 189,
   "id": "edb83450-fc76-45a4-b998-42e05f234198",
   "metadata": {},
   "outputs": [
    {
     "data": {
      "image/png": "[encoded data removed]",
      "text/plain": [
       "<Figure size 640x480 with 1 Axes>"
      ]
     },
     "execution_count": 189,
     "metadata": {},
     "output_type": "execute_result"
    }
   ],
   "source": [
    "#emulated qc- Kyoto\n",
    "\n",
    "# Run the noisy simulation\n",
    "sim_thermal = AerSimulator(noise_model=noise_model)\n",
    " \n",
    "# Transpile circuit for noisy basis gates\n",
    "passmanager = generate_preset_pass_manager(optimization_level=3, backend=sim_thermal)\n",
    "circ_tthermal = passmanager.run(circ)\n",
    " \n",
    "# Run and get counts\n",
    "result_thermal = sim_thermal.run(circ_tthermal).result()\n",
    "counts_thermal = result_thermal.get_counts(0)\n",
    " \n",
    "# Plot noisy output\n",
    "plot_histogram(counts_thermal)"
   ]
  },
  {
   "cell_type": "code",
   "execution_count": 192,
   "id": "e34c6609-ec11-442f-9cd9-5f5d00d3685e",
   "metadata": {},
   "outputs": [
    {
     "data": {
      "image/png": "[encoded data removed]",
      "text/plain": [
       "<Figure size 640x480 with 1 Axes>"
      ]
     },
     "execution_count": 192,
     "metadata": {},
     "output_type": "execute_result"
    }
   ],
   "source": [
    "#emulated qc- Osaka\n",
    "\n",
    "# Run the noisy simulation\n",
    "sim_thermal = AerSimulator(noise_model=noise_model)\n",
    " \n",
    "# Transpile circuit for noisy basis gates\n",
    "passmanager = generate_preset_pass_manager(optimization_level=3, backend=sim_thermal)\n",
    "circ_tthermal = passmanager.run(circ)\n",
    " \n",
    "# Run and get counts\n",
    "result_thermal = sim_thermal.run(circ_tthermal).result()\n",
    "counts_thermal = result_thermal.get_counts(0)\n",
    " \n",
    "# Plot noisy output\n",
    "plot_histogram(counts_thermal)"
   ]
  },
  {
   "cell_type": "code",
   "execution_count": 195,
   "id": "5f50b0e9-a65c-433c-97a7-0f10cb31494a",
   "metadata": {},
   "outputs": [
    {
     "data": {
      "image/png": "[encoded data removed]",
      "text/plain": [
       "<Figure size 640x480 with 1 Axes>"
      ]
     },
     "execution_count": 195,
     "metadata": {},
     "output_type": "execute_result"
    }
   ],
   "source": [
    "#emulated qc- brisbane\n",
    "\n",
    "# Run the noisy simulation\n",
    "sim_thermal = AerSimulator(noise_model=noise_model)\n",
    " \n",
    "# Transpile circuit for noisy basis gates\n",
    "passmanager = generate_preset_pass_manager(optimization_level=3, backend=sim_thermal)\n",
    "circ_tthermal = passmanager.run(circ)\n",
    " \n",
    "# Run and get counts\n",
    "result_thermal = sim_thermal.run(circ_tthermal).result()\n",
    "counts_thermal = result_thermal.get_counts(0)\n",
    " \n",
    "# Plot noisy output\n",
    "plot_histogram(counts_thermal)"
   ]
  }
 ],
 "metadata": {
  "kernelspec": {
   "display_name": "Python 3 (ipykernel)",
   "language": "python",
   "name": "python3"
  },
  "language_info": {
   "codemirror_mode": {
    "name": "ipython",
    "version": 3
   },
   "file_extension": ".py",
   "mimetype": "text/x-python",
   "name": "python",
   "nbconvert_exporter": "python",
   "pygments_lexer": "ipython3",
   "version": "3.9.16"
  }
 },
 "nbformat": 4,
 "nbformat_minor": 5
}
